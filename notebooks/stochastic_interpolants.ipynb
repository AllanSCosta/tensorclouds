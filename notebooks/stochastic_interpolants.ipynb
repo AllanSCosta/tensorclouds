{
 "cells": [
  {
   "cell_type": "code",
   "execution_count": 1,
   "id": "8e97ec8e",
   "metadata": {},
   "outputs": [],
   "source": [
    "%load_ext autoreload\n",
    "%autoreload 2"
   ]
  },
  {
   "cell_type": "markdown",
   "id": "a491ec53",
   "metadata": {},
   "source": [
    "## [Setup + Utils]"
   ]
  },
  {
   "cell_type": "code",
   "execution_count": 2,
   "id": "a3971526",
   "metadata": {},
   "outputs": [],
   "source": [
    "import py3Dmol\n",
    "\n",
    "def traj_to_pdb(traj, downsample=1, tail=20):\n",
    "    models = \"\"\n",
    "    traj = traj[::downsample] + [traj[-1]] * tail\n",
    "    for i, p in enumerate(tqdm(traj)):\n",
    "        models += f\"MODEL {i + 1}\\n\"\n",
    "        models += p.to_pdb_str()\n",
    "        models += \"\\nENDMDL\\n\"\n",
    "    return models\n",
    "\n",
    "def plot_py3dmol_traj(traj, window_size=(400, 400), duration=10000):\n",
    "    # interval = duration / len(traj)\n",
    "    v = py3Dmol.view(*window_size)\n",
    "    models = traj_to_pdb(traj)\n",
    "    v.addModelsAsFrames(models, 'pdb')\n",
    "    v.setStyle({})\n",
    "    v.addStyle({'atom': 'CA'}, {'sphere': {'radius': 0.5, 'color': 'darkgray'}})\n",
    "    v.addStyle({'chain': 'A'}, {'stick': {}})\n",
    "    v.setBackgroundColor(\"rgb(0,0,0)\", 0)\n",
    "    v.animate({'loop': 'forward'})\n",
    "    return v"
   ]
  },
  {
   "cell_type": "code",
   "execution_count": 3,
   "id": "227af0d3-5c2d-40dd-a475-993ce6d6b1ef",
   "metadata": {},
   "outputs": [],
   "source": [
    "import os\n",
    "os.environ[\"CUDA_DEVICE_ORDER\"] = \"PCI_BUS_ID\"  # see issue #152\n",
    "os.environ[\"CUDA_VISIBLE_DEVICES\"] = '0'\n",
    "os.environ[\"XLA_PYTHON_CLIENT_PREALLOCATE\"] = \"true\"  # add this\n",
    "# os.environ[\"XLA_PYTHON_CLIENT_ALLOCATOR\"] = \"platform\""
   ]
  },
  {
   "cell_type": "code",
   "execution_count": 7,
   "id": "db72b541",
   "metadata": {},
   "outputs": [],
   "source": [
    "import sys \n",
    "sys.path.append('../')\n",
    "\n",
    "import jax\n",
    "import jax.numpy as jnp\n",
    "import haiku as hk\n",
    "import optax\n",
    "from einops import repeat, rearrange\n",
    "import functools\n",
    "from collections import defaultdict\n",
    "import plotly as plt\n",
    "import e3nn_jax as e3nn\n",
    "from tqdm import tqdm\n",
    "# from model.base.utils import inner_stack, inner_split\n",
    "\n",
    "import functools\n",
    "\n",
    "from moleculib.graphics.py3Dmol import plot_py3dmol_grid\n",
    "import numpy as np\n",
    "\n",
    "from tensorclouds.train.utils import register_pytree\n",
    "from moleculib.protein.datum import ProteinDatum\n",
    "\n",
    "# register_pytree(ProteinDatum)\n",
    "# import pickle\n",
    "\n"
   ]
  },
  {
   "cell_type": "markdown",
   "id": "53e12cbf",
   "metadata": {},
   "source": [
    "## Prepare Data"
   ]
  },
  {
   "cell_type": "markdown",
   "id": "0ce6ea76",
   "metadata": {},
   "source": [
    "### -> Choose Dataset"
   ]
  },
  {
   "cell_type": "markdown",
   "id": "64b74a7d",
   "metadata": {},
   "source": [
    "#### 1. Fast Folding"
   ]
  },
  {
   "cell_type": "code",
   "execution_count": null,
   "id": "ca6b7306",
   "metadata": {},
   "outputs": [],
   "source": [
    "from torch.utils.data import DataLoader\n",
    "from tqdm import tqdm\n",
    "from moleculib.protein.dataset import FastFoldingDataset\n",
    "import mdtraj as md\n",
    "dataset = FastFoldingDataset(protein=\"chignolin\", tau=0, buffer=100)"
   ]
  },
  {
   "cell_type": "code",
   "execution_count": null,
   "id": "53e17548",
   "metadata": {},
   "outputs": [],
   "source": [
    "from torch.utils.data import DataLoader\n",
    "x0 = dataset[0]\n",
    "batch_size = 32\n",
    "pad_size = len(x0)\n",
    "dataloader = DataLoader(dataset, batch_size=batch_size, shuffle=True, num_workers=min(batch_size, 32), collate_fn=lambda x: x)"
   ]
  },
  {
   "cell_type": "markdown",
   "id": "b333b538",
   "metadata": {},
   "source": [
    "#### 2. ATLAS EIF4"
   ]
  },
  {
   "cell_type": "code",
   "execution_count": 8,
   "id": "3f9bea39",
   "metadata": {},
   "outputs": [
    {
     "name": "stdout",
     "output_type": "stream",
     "text": [
      "Loading data...\n"
     ]
    }
   ],
   "source": [
    "from moleculib.traj.dataset import AtlasEIF4EDataset\n",
    "dataset = AtlasEIF4EDataset(base_path='/mas/projects/molecularmachines/db/PREPROCESSED')"
   ]
  },
  {
   "cell_type": "markdown",
   "id": "34787c8b",
   "metadata": {},
   "source": [
    "#### 3. AdK Equilibrium"
   ]
  },
  {
   "cell_type": "code",
   "execution_count": null,
   "id": "e087a30c",
   "metadata": {},
   "outputs": [],
   "source": [
    "from moleculib.traj.dataset import AdKEquilibriumDataset\n",
    "dataset = AdKEquilibriumDataset(base_path='/mas/projects/molecularmachines/db/PREPROCESSED')"
   ]
  },
  {
   "cell_type": "markdown",
   "id": "0bf7e561",
   "metadata": {},
   "source": [
    "#### 4. Timewarp"
   ]
  },
  {
   "cell_type": "code",
   "execution_count": 5,
   "id": "4d860a05",
   "metadata": {},
   "outputs": [
    {
     "name": "stderr",
     "output_type": "stream",
     "text": [
      "100%|██████████| 1000/1000 [00:08<00:00, 115.59it/s]\n"
     ]
    }
   ],
   "source": [
    "from moleculib.traj.dataset import TimewarpDataset\n",
    "\n",
    "dataset = TimewarpDataset(\n",
    "    dataset=\"2AA-1-big\",\n",
    "    split=\"train\",\n",
    "    tau=0,\n",
    "    max_files=1,\n",
    ")\n",
    "dataset.splits = { 'train': [dataset[i] for i in tqdm(range(1000))]}"
   ]
  },
  {
   "cell_type": "markdown",
   "id": "a85c1c3d",
   "metadata": {},
   "source": [
    "### -> Preprocess"
   ]
  },
  {
   "cell_type": "code",
   "execution_count": 10,
   "id": "3d8bdc84",
   "metadata": {},
   "outputs": [],
   "source": [
    "from tensorclouds.train.trainer import batch_dict\n",
    "\n",
    "x0 = dataset.splits['train'][1]\n",
    "batch_size = 16 \n",
    "pad_size = len(x0)\n",
    "dataloader = [ batch_dict([dataset.splits['train'][i].to_dict() for i in range(j, j+batch_size) if i < len(dataset.splits['train'])]) for j in range(0, len(dataset.splits['train']), batch_size)]"
   ]
  },
  {
   "cell_type": "code",
   "execution_count": 11,
   "id": "a9249895",
   "metadata": {},
   "outputs": [
    {
     "data": {
      "text/plain": [
       "<moleculib.protein.datum.ProteinDatum at 0x7f59b1f70eb0>"
      ]
     },
     "execution_count": 11,
     "metadata": {},
     "output_type": "execute_result"
    }
   ],
   "source": [
    "dataset.splits['train'][0]"
   ]
  },
  {
   "cell_type": "code",
   "execution_count": 12,
   "id": "1385dc69",
   "metadata": {},
   "outputs": [
    {
     "data": {
      "application/3dmoljs_load.v0": "<div id=\"3dmolviewer_17168618177034638\"  style=\"position: relative; width: 250px; height: 250px;\">\n        <p id=\"3dmolwarning_17168618177034638\" style=\"background-color:#ffcccc;color:black\">You appear to be running in JupyterLab (or JavaScript failed to load for some other reason).  You need to install the 3dmol extension: <br>\n        <tt>jupyter labextension install jupyterlab_3dmol</tt></p>\n        </div>\n<script>\n\nvar loadScriptAsync = function(uri){\n  return new Promise((resolve, reject) => {\n    //this is to ignore the existence of requirejs amd\n    var savedexports, savedmodule;\n    if (typeof exports !== 'undefined') savedexports = exports;\n    else exports = {}\n    if (typeof module !== 'undefined') savedmodule = module;\n    else module = {}\n\n    var tag = document.createElement('script');\n    tag.src = uri;\n    tag.async = true;\n    tag.onload = () => {\n        exports = savedexports;\n        module = savedmodule;\n        resolve();\n    };\n  var firstScriptTag = document.getElementsByTagName('script')[0];\n  firstScriptTag.parentNode.insertBefore(tag, firstScriptTag);\n});\n};\n\nif(typeof $3Dmolpromise === 'undefined') {\n$3Dmolpromise = null;\n  $3Dmolpromise = loadScriptAsync('https://cdnjs.cloudflare.com/ajax/libs/3Dmol/2.0.4/3Dmol-min.js');\n}\n\nvar viewer_17168618177034638 = null;\nvar warn = document.getElementById(\"3dmolwarning_17168618177034638\");\nif(warn) {\n    warn.parentNode.removeChild(warn);\n}\n$3Dmolpromise.then(function() {\nvar viewergrid_17168618177034638 = null;\nviewergrid_17168618177034638 = $3Dmol.createViewerGrid(document.getElementById(\"3dmolviewer_17168618177034638\"),{rows: 1, cols: 1, control_all: true},{backgroundColor:\"white\"});\nviewer_17168618177034638 = viewergrid_17168618177034638[0][0];\nviewergrid_17168618177034638[0][0].zoomTo();\tviewergrid_17168618177034638[0][0].addModel(\"ATOM  1     N    GLY A 1        17.552  54.784  38.356                       N  \\nATOM  2     CA   GLY A 1        17.026  53.470  37.818                       C  \\nATOM  3     C    GLY A 1        15.900  52.900  38.642                       C  \\nATOM  4     O    GLY A 1        15.588  53.502  39.696                       O  \\nATOM  5     N    PRO A 2        15.218  51.854  38.210                       N  \\nATOM  6     CA   PRO A 2        14.662  50.836  39.028                       C  \\nATOM  7     C    PRO A 2        15.408  50.504  40.306                       C  \\nATOM  8     O    PRO A 2        16.644  50.402  40.274                       O  \\nATOM  9     CB   PRO A 2        14.274  49.606  38.146                       C  \\nATOM  10    CG   PRO A 2        14.318  50.154  36.758                       C  \\nATOM  11    CD   PRO A 2        15.340  51.330  36.866                       C  \\nATOM  12    N    HIS A 3        14.736  50.168  41.486                       N  \\nATOM  13    CA   HIS A 3        15.424  49.730  42.662                       C  \\nATOM  14    C    HIS A 3        16.132  48.332  42.572                       C  \\nATOM  15    O    HIS A 3        15.952  47.722  41.564                       O  \\nATOM  16    CB   HIS A 3        14.484  49.634  43.850                       C  \\nATOM  17    CG   HIS A 3        13.960  50.952  44.452                       C  \\nATOM  18    ND1  HIS A 3        14.950  51.824  44.832                       N  \\nATOM  19    CE1  HIS A 3        14.318  52.932  45.224                       C  \\nATOM  20    NE2  HIS A 3        12.996  52.748  45.230                       N  \\nATOM  21    CD2  HIS A 3        12.742  51.526  44.668                       C  \\nATOM  22    N    MET A 4        16.962  47.878  43.582                       N  \\nATOM  23    CA   MET A 4        17.800  46.670  43.600                       C  \\nATOM  24    C    MET A 4        17.052  45.380  43.794                       C  \\nATOM  25    O    MET A 4        15.904  45.412  44.288                       O  \\nATOM  26    CB   MET A 4        18.950  46.828  44.622                       C  \\nATOM  27    CG   MET A 4        18.492  46.810  46.144                       C  \\nATOM  28    SD   MET A 4        18.350  45.142  46.918                       S  \\nATOM  29    CE   MET A 4        17.904  45.810  48.572                       C  \\nATOM  30    N    THR A 5        17.642  44.290  43.292                       N  \\nATOM  31    CA   THR A 5        16.956  42.944  43.300                       C  \\nATOM  32    C    THR A 5        17.776  41.830  43.798                       C  \\nATOM  33    O    THR A 5        18.944  41.732  43.348                       O  \\nATOM  34    CB   THR A 5        16.300  42.624  41.896                       C  \\nATOM  35    OG1  THR A 5        15.926  41.268  41.712                       O  \\nATOM  36    CG2  THR A 5        17.258  42.884  40.806                       C  \\nATOM  37    N    LYS A 6        17.294  41.022  44.738                       N  \\nATOM  38    CA   LYS A 6        18.060  40.024  45.394                       C  \\nATOM  39    C    LYS A 6        18.310  38.864  44.434                       C  \\nATOM  40    O    LYS A 6        17.424  38.446  43.710                       O  \\nATOM  41    CB   LYS A 6        17.406  39.408  46.720                       C  \\nATOM  42    CG   LYS A 6        17.004  40.462  47.706                       C  \\nATOM  43    CD   LYS A 6        18.276  41.280  48.140                       C  \\nATOM  44    CE   LYS A 6        17.976  42.106  49.338                       C  \\nATOM  45    NZ   LYS A 6        19.136  42.626  49.986                       N  \\nATOM  46    N    LEU A 7        19.560  38.362  44.380                       N  \\nATOM  47    CA   LEU A 7        20.002  37.342  43.540                       C  \\nATOM  48    C    LEU A 7        19.742  35.948  44.068                       C  \\nATOM  49    O    LEU A 7        19.980  35.690  45.244                       O  \\nATOM  50    CB   LEU A 7        21.506  37.442  43.226                       C  \\nATOM  51    CG   LEU A 7        21.946  38.532  42.288                       C  \\nATOM  52    CD1  LEU A 7        23.426  39.024  42.492                       C  \\nATOM  53    CD2  LEU A 7        21.546  38.048  40.886                       C  \\nATOM  54    CD   ILE A 8        16.078  32.942  44.730                       C  \\nATOM  55    CA   ILE A 8        19.132  33.768  43.618                       C  \\nATOM  56    C    ILE A 8        20.316  32.856  43.248                       C  \\nATOM  57    O    ILE A 8        20.494  31.744  43.754                       O  \\nATOM  58    CB   ILE A 8        17.880  33.274  42.890                       C  \\nATOM  59    CG1  ILE A 8        17.066  32.354  43.762                       C  \\nATOM  60    CG2  ILE A 8        18.146  32.640  41.506                       C  \\nATOM  61    N    TYR A 9        21.280  33.388  42.420                       N  \\nATOM  62    CA   TYR A 9        22.520  32.754  41.974                       C  \\nATOM  63    C    TYR A 9        22.362  31.384  41.206                       C  \\nATOM  64    O    TYR A 9        22.804  30.310  41.674                       O  \\nATOM  65    CB   TYR A 9        23.518  32.620  43.130                       C  \\nATOM  66    CG   TYR A 9        23.866  33.994  43.774                       C  \\nATOM  67    CD1  TYR A 9        23.124  34.598  44.734                       C  \\nATOM  68    CE1  TYR A 9        23.566  35.828  45.298                       C  \\nATOM  69    CZ   TYR A 9        24.750  36.410  44.806                       C  \\nATOM  70    OH   TYR A 9        25.264  37.540  45.422                       O  \\nATOM  71    CE2  TYR A 9        25.542  35.804  43.842                       C  \\nATOM  72    CD2  TYR A 9        25.146  34.502  43.418                       C  \\nATOM  73    N    GLU A 10       21.720  31.438  39.944                       N  \\nATOM  74    CA   GLU A 10       21.476  30.428  38.990                       C  \\nATOM  75    C    GLU A 10       22.788  29.752  38.552                       C  \\nATOM  76    O    GLU A 10       23.848  30.350  38.638                       O  \\nATOM  77    CB   GLU A 10       20.804  31.102  37.758                       C  \\nATOM  78    CG   GLU A 10       19.398  31.680  38.104                       C  \\nATOM  79    CD   GLU A 10       18.650  32.112  36.898                       C  \\nATOM  80    OE1  GLU A 10       19.238  32.822  36.024                       O  \\nATOM  81    OE2  GLU A 10       17.402  31.984  36.804                       O  \\nATOM  82    N    ARG A 11       22.758  28.446  38.196                       N  \\nATOM  83    CA   ARG A 11       23.922  27.588  37.796                       C  \\nATOM  84    C    ARG A 11       24.930  28.258  36.840                       C  \\nATOM  85    O    ARG A 11       26.104  28.328  37.126                       O  \\nATOM  86    CB   ARG A 11       23.418  26.250  37.180                       C  \\nATOM  87    CG   ARG A 11       24.526  25.176  36.790                       C  \\nATOM  88    CD   ARG A 11       23.946  23.758  36.528                       C  \\nATOM  89    NE   ARG A 11       25.100  22.958  35.970                       N  \\nATOM  90    CZ   ARG A 11       25.826  22.178  36.770                       C  \\nATOM  91    NH1  ARG A 11       25.778  22.288  38.060                       N  \\nATOM  92    NH2  ARG A 11       26.580  21.332  36.196                       N  \\nATOM  93    N    ALA A 12       24.408  28.912  35.716                       N  \\nATOM  94    CA   ALA A 12       25.228  29.752  34.782                       C  \\nATOM  95    C    ALA A 12       25.960  30.926  35.382                       C  \\nATOM  96    O    ALA A 12       27.146  31.204  35.014                       O  \\nATOM  97    CB   ALA A 12       24.286  30.324  33.736                       C  \\nATOM  98    N    PHE A 13       25.238  31.692  36.224                       N  \\nATOM  99    CA   PHE A 13       25.816  32.816  37.000                       C  \\nATOM  100   C    PHE A 13       26.932  32.332  37.870                       C  \\nATOM  101   O    PHE A 13       28.054  32.914  37.868                       O  \\nATOM  102   CB   PHE A 13       24.706  33.488  37.796                       C  \\nATOM  103   CG   PHE A 13       25.232  34.726  38.406                       C  \\nATOM  104   CD1  PHE A 13       25.574  34.766  39.776                       C  \\nATOM  105   CE1  PHE A 13       25.904  35.952  40.380                       C  \\nATOM  106   CZ   PHE A 13       25.796  37.196  39.614                       C  \\nATOM  107   CE2  PHE A 13       25.578  37.112  38.244                       C  \\nATOM  108   CD2  PHE A 13       25.288  35.898  37.624                       C  \\nATOM  109   N    MET A 14       26.724  31.226  38.616                       N  \\nATOM  110   CA   MET A 14       27.742  30.616  39.418                       C  \\nATOM  111   C    MET A 14       28.998  30.178  38.736                       C  \\nATOM  112   O    MET A 14       30.120  30.456  39.190                       O  \\nATOM  113   CB   MET A 14       27.226  29.556  40.396                       C  \\nATOM  114   CG   MET A 14       26.294  30.136  41.554                       C  \\nATOM  115   SD   MET A 14       27.040  31.418  42.622                       S  \\nATOM  116   CE   MET A 14       27.704  30.266  43.810                       C  \\nATOM  117   N    LYS A 15       28.850  29.448  37.630                       N  \\nATOM  118   CA   LYS A 15       29.942  29.116  36.774                       C  \\nATOM  119   C    LYS A 15       30.718  30.280  36.328                       C  \\nATOM  120   O    LYS A 15       31.952  30.268  36.344                       O  \\nATOM  121   CB   LYS A 15       29.430  28.356  35.544                       C  \\nATOM  122   CG   LYS A 15       28.880  26.966  35.910                       C  \\nATOM  123   CD   LYS A 15       30.014  25.918  35.978                       C  \\nATOM  124   CE   LYS A 15       29.410  24.506  36.356                       C  \\nATOM  125   NZ   LYS A 15       30.458  23.576  36.528                       N  \\nATOM  126   N    ASN A 16       30.072  31.378  35.984                       N  \\nATOM  127   CA   ASN A 16       30.900  32.488  35.538                       C  \\nATOM  128   C    ASN A 16       31.554  33.240  36.686                       C  \\nATOM  129   O    ASN A 16       32.630  33.806  36.554                       O  \\nATOM  130   CB   ASN A 16       30.028  33.486  34.708                       C  \\nATOM  131   CG   ASN A 16       30.894  34.618  34.050                       C  \\nATOM  132   OD1  ASN A 16       30.678  35.804  34.336                       O  \\nATOM  133   ND2  ASN A 16       31.796  34.292  33.126                       N  \\nATOM  134   N    LEU A 17       30.944  33.180  37.916                       N  \\nATOM  135   CA   LEU A 17       31.450  33.832  39.090                       C  \\nATOM  136   C    LEU A 17       32.728  33.150  39.696                       C  \\nATOM  137   O    LEU A 17       33.652  33.782  40.256                       O  \\nATOM  138   CB   LEU A 17       30.246  33.914  40.112                       C  \\nATOM  139   CG   LEU A 17       30.534  34.432  41.506                       C  \\nATOM  140   CD1  LEU A 17       31.072  35.872  41.468                       C  \\nATOM  141   CD2  LEU A 17       29.278  34.474  42.472                       C  \\nATOM  142   N    ARG A 18       32.792  31.770  39.714                       N  \\nATOM  143   CA   ARG A 18       33.938  30.946  40.192                       C  \\nATOM  144   C    ARG A 18       35.104  30.944  39.144                       C  \\nATOM  145   O    ARG A 18       36.232  30.618  39.442                       O  \\nATOM  146   CB   ARG A 18       33.670  29.480  40.550                       C  \\nATOM  147   CG   ARG A 18       32.572  29.208  41.530                       C  \\nATOM  148   CD   ARG A 18       32.860  29.758  42.992                       C  \\nATOM  149   NE   ARG A 18       34.006  29.066  43.566                       N  \\nATOM  150   CZ   ARG A 18       35.216  29.596  43.786                       C  \\nATOM  151   NH1  ARG A 18       35.384  30.884  43.908                       N  \\nATOM  152   NH2  ARG A 18       36.228  28.842  43.896                       N  \\nATOM  153   N    GLY A 19       34.726  31.378  37.952                       N  \\nATOM  154   CA   GLY A 19       35.710  31.428  36.852                       C  \\nATOM  155   C    GLY A 19       36.004  30.130  36.092                       C  \\nATOM  156   O    GLY A 19       36.826  30.064  35.182                       O  \\nATOM  157   N    SER A 20       35.072  29.214  36.372                       N  \\nATOM  158   CA   SER A 20       34.858  27.928  35.724                       C  \\nATOM  159   C    SER A 20       34.458  27.994  34.218                       C  \\nATOM  160   O    SER A 20       33.902  29.008  33.720                       O  \\nATOM  161   CB   SER A 20       33.682  27.220  36.464                       C  \\nATOM  162   OG   SER A 20       33.856  27.130  37.874                       O  \\nATOM  163   N    PRO A 21       34.740  26.974  33.406                       N  \\nATOM  164   CA   PRO A 21       34.254  26.792  32.056                       C  \\nATOM  165   C    PRO A 21       32.658  26.860  31.972                       C  \\nATOM  166   O    PRO A 21       32.000  26.270  32.908                       O  \\nATOM  167   CB   PRO A 21       34.658  25.400  31.574                       C  \\nATOM  168   CG   PRO A 21       35.920  25.136  32.442                       C  \\nATOM  169   CD   PRO A 21       35.636  25.878  33.746                       C  \\nATOM  170   N    LEU A 22       32.094  27.572  31.010                       N  \\nATOM  171   CA   LEU A 22       30.650  27.736  30.788                       C  \\nATOM  172   C    LEU A 22       30.362  27.788  29.222                       C  \\nATOM  173   O    LEU A 22       30.944  28.626  28.562                       O  \\nATOM  174   CB   LEU A 22       30.252  29.082  31.340                       C  \\nATOM  175   CG   LEU A 22       28.768  29.326  31.208                       C  \\nATOM  176   CD1  LEU A 22       27.998  28.306  31.962                       C  \\nATOM  177   CD2  LEU A 22       28.406  30.672  31.830                       C  \\nATOM  178   N    SER A 23       29.450  26.880  28.748                       N  \\nATOM  179   CA   SER A 23       28.886  26.814  27.350                       C  \\nATOM  180   C    SER A 23       29.664  25.852  26.456                       C  \\nATOM  181   O    SER A 23       30.882  25.778  26.674                       O  \\nATOM  182   CB   SER A 23       28.726  28.212  26.702                       C  \\nATOM  183   OG   SER A 23       28.032  28.084  25.438                       O  \\nATOM  184   N    GLN A 24       29.032  25.202  25.454                       N  \\nATOM  185   CA   GLN A 24       29.678  24.190  24.762                       C  \\nATOM  186   C    GLN A 24       29.004  24.026  23.348                       C  \\nATOM  187   O    GLN A 24       27.828  24.430  23.172                       O  \\nATOM  188   CB   GLN A 24       29.706  22.766  25.420                       C  \\nATOM  189   CG   GLN A 24       30.750  22.640  26.502                       C  \\nATOM  190   CD   GLN A 24       30.984  21.326  27.196                       C  \\nATOM  191   OE1  GLN A 24       31.958  21.068  27.882                       O  \\nATOM  192   NE2  GLN A 24       29.990  20.366  27.060                       N  \\nATOM  193   N    THR A 25       29.774  23.510  22.354                       N  \\nATOM  194   CA   THR A 25       29.226  23.278  21.016                       C  \\nATOM  195   C    THR A 25       28.312  22.030  21.000                       C  \\nATOM  196   O    THR A 25       28.508  21.164  21.816                       O  \\nATOM  197   CB   THR A 25       30.354  23.182  19.866                       C  \\nATOM  198   OG1  THR A 25       29.752  23.430  18.622                       O  \\nATOM  199   CG2  THR A 25       31.120  21.850  19.930                       C  \\nATOM  200   N    PRO A 26       27.292  21.884  20.192                       N  \\nATOM  201   CA   PRO A 26       26.588  20.654  19.924                       C  \\nATOM  202   C    PRO A 26       27.542  19.546  19.510                       C  \\nATOM  203   O    PRO A 26       28.482  19.932  18.798                       O  \\nATOM  204   CB   PRO A 26       25.550  21.002  18.810                       C  \\nATOM  205   CG   PRO A 26       25.216  22.522  19.058                       C  \\nATOM  206   CD   PRO A 26       26.614  22.952  19.472                       C  \\nATOM  207   N    PRO A 27       27.392  18.244  19.730                       N  \\nATOM  208   CA   PRO A 27       28.062  17.272  18.858                       C  \\nATOM  209   C    PRO A 27       27.498  17.294  17.440                       C  \\nATOM  210   O    PRO A 27       26.390  17.722  17.222                       O  \\nATOM  211   CB   PRO A 27       27.690  15.954  19.548                       C  \\nATOM  212   CG   PRO A 27       26.402  16.100  20.316                       C  \\nATOM  213   CD   PRO A 27       26.368  17.624  20.558                       C  \\nATOM  214   N    SER A 28       28.284  16.868  16.432                       N  \\nATOM  215   CA   SER A 28       28.002  16.840  15.034                       C  \\nATOM  216   C    SER A 28       27.672  18.116  14.250                       C  \\nATOM  217   O    SER A 28       27.798  19.206  14.728                       O  \\nATOM  218   CB   SER A 28       26.876  15.674  14.724                       C  \\nATOM  219   OG   SER A 28       26.626  15.318  13.354                       O  \\nATOM  220   N    ASN A 29       27.338  17.962  12.948                       N  \\nATOM  221   CA   ASN A 29       27.204  19.020  11.944                       C  \\nATOM  222   C    ASN A 29       26.236  18.668  10.850                       C  \\nATOM  223   O    ASN A 29       26.146  19.306   9.806                       O  \\nATOM  224   CB   ASN A 29       28.602  19.608  11.544                       C  \\nATOM  225   CG   ASN A 29       28.576  20.874  10.738                       C  \\nATOM  226   OD1  ASN A 29       27.528  21.514  10.686                       O  \\nATOM  227   ND2  ASN A 29       29.644  21.230  10.034                       N  \\nATOM  228   N    VAL A 30       25.488  17.604  10.998                       N  \\nATOM  229   CA   VAL A 30       24.466  17.216   9.958                       C  \\nATOM  230   C    VAL A 30       23.394  18.216   9.510                       C  \\nATOM  231   O    VAL A 30       23.026  19.042  10.328                       O  \\nATOM  232   CB   VAL A 30       23.740  15.886  10.260                       C  \\nATOM  233   CG1  VAL A 30       24.818  14.716  10.430                       C  \\nATOM  234   CG2  VAL A 30       22.954  16.030  11.620                       C  \\nATOM  235   N    PRO A 31       22.972  18.272   8.188                       N  \\nATOM  236   CA   PRO A 31       21.942  19.172   7.620                       C  \\nATOM  237   C    PRO A 31       20.782  19.654   8.514                       C  \\nATOM  238   O    PRO A 31       20.170  18.888   9.250                       O  \\nATOM  239   CB   PRO A 31       21.446  18.386   6.440                       C  \\nATOM  240   CG   PRO A 31       22.646  17.596   5.914                       C  \\nATOM  241   CD   PRO A 31       23.508  17.376   7.194                       C  \\nATOM  242   N    SER A 32       20.500  20.940   8.422                       N  \\nATOM  243   CA   SER A 32       19.344  21.622   9.092                       C  \\nATOM  244   C    SER A 32       17.930  21.128   8.944                       C  \\nATOM  245   O    SER A 32       17.048  21.260   9.862                       O  \\nATOM  246   CB   SER A 32       19.264  23.134   8.668                       C  \\nATOM  247   OG   SER A 32       20.438  23.882   9.082                       O  \\nATOM  248   N    CYS A 33       17.620  20.552   7.774                       N  \\nATOM  249   CA   CYS A 33       16.430  19.842   7.398                       C  \\nATOM  250   C    CYS A 33       16.146  18.670   8.324                       C  \\nATOM  251   O    CYS A 33       14.972  18.328   8.504                       O  \\nATOM  252   CB   CYS A 33       16.564  19.306   5.912                       C  \\nATOM  253   SG   CYS A 33       17.936  18.200   5.616                       S  \\nATOM  254   N    LEU A 34       17.154  18.012   8.950                       N  \\nATOM  255   CA   LEU A 34       16.876  16.918   9.824                       C  \\nATOM  256   C    LEU A 34       16.082  17.256  11.068                       C  \\nATOM  257   O    LEU A 34       16.302  18.378  11.592                       O  \\nATOM  258   CB   LEU A 34       18.218  16.126  10.242                       C  \\nATOM  259   CG   LEU A 34       18.730  15.340   8.972                       C  \\nATOM  260   CD1  LEU A 34       19.952  14.496   9.478                       C  \\nATOM  261   CD2  LEU A 34       17.754  14.494   8.242                       C  \\nATOM  262   N    LEU A 35       15.176  16.352  11.468                       N  \\nATOM  263   CA   LEU A 35       14.362  16.460  12.716                       C  \\nATOM  264   C    LEU A 35       14.842  15.282  13.604                       C  \\nATOM  265   O    LEU A 35       14.698  14.120  13.334                       O  \\nATOM  266   CB   LEU A 35       12.838  16.368  12.354                       C  \\nATOM  267   CG   LEU A 35       12.228  17.566  11.624                       C  \\nATOM  268   CD1  LEU A 35       10.704  17.454  11.294                       C  \\nATOM  269   CD2  LEU A 35       12.466  18.910  12.442                       C  \\nATOM  270   N    ARG A 36       15.404  15.572  14.822                       N  \\nATOM  271   CA   ARG A 36       15.798  14.674  15.796                       C  \\nATOM  272   C    ARG A 36       14.582  14.222  16.548                       C  \\nATOM  273   O    ARG A 36       13.584  14.926  16.678                       O  \\nATOM  274   CB   ARG A 36       16.928  15.166  16.806                       C  \\nATOM  275   CG   ARG A 36       18.430  15.114  16.384                       C  \\nATOM  276   CD   ARG A 36       19.014  16.172  15.458                       C  \\nATOM  277   NE   ARG A 36       20.502  15.918  15.462                       N  \\nATOM  278   CZ   ARG A 36       21.420  16.680  14.938                       C  \\nATOM  279   NH1  ARG A 36       20.950  17.716  14.192                       N  \\nATOM  280   NH2  ARG A 36       22.680  16.618  15.286                       N  \\nATOM  281   N    GLY A 37       14.728  13.028  17.130                       N  \\nATOM  282   CA   GLY A 37       13.770  12.284  17.986                       C  \\nATOM  283   C    GLY A 37       12.494  12.014  17.302                       C  \\nATOM  284   O    GLY A 37       12.278  12.248  16.116                       O  \\nATOM  285   N    THR A 38       11.446  11.570  18.054                       N  \\nATOM  286   CA   THR A 38       10.120  11.332  17.534                       C  \\nATOM  287   C    THR A 38        9.284  12.612  17.782                       C  \\nATOM  288   CB   THR A 38        9.308  10.208  18.192                       C  \\nATOM  289   OG1  THR A 38        9.374  10.270  19.672                       O  \\nATOM  290   CG2  THR A 38        9.938   8.918  17.702                       C  \",\"pdb\");\n\tviewergrid_17168618177034638[0][0].setStyle({\"model\": -1},{});\n\tviewergrid_17168618177034638[0][0].addStyle({\"model\": -1},{\"cartoon\": {\"color\": \"spectrum\"}});\n\tviewergrid_17168618177034638[0][0].addStyle({\"model\": -1},{\"stick\": {\"radius\": 0.2}});\n\tviewergrid_17168618177034638[0][0].zoomTo();\n\tviewergrid_17168618177034638[0][0].setBackgroundColor(\"rgb(0,0,0)\",0);\nviewergrid_17168618177034638[0][0].render();\n});\n</script>",
      "text/html": [
       "<div id=\"3dmolviewer_17168618177034638\"  style=\"position: relative; width: 250px; height: 250px;\">\n",
       "        <p id=\"3dmolwarning_17168618177034638\" style=\"background-color:#ffcccc;color:black\">You appear to be running in JupyterLab (or JavaScript failed to load for some other reason).  You need to install the 3dmol extension: <br>\n",
       "        <tt>jupyter labextension install jupyterlab_3dmol</tt></p>\n",
       "        </div>\n",
       "<script>\n",
       "\n",
       "var loadScriptAsync = function(uri){\n",
       "  return new Promise((resolve, reject) => {\n",
       "    //this is to ignore the existence of requirejs amd\n",
       "    var savedexports, savedmodule;\n",
       "    if (typeof exports !== 'undefined') savedexports = exports;\n",
       "    else exports = {}\n",
       "    if (typeof module !== 'undefined') savedmodule = module;\n",
       "    else module = {}\n",
       "\n",
       "    var tag = document.createElement('script');\n",
       "    tag.src = uri;\n",
       "    tag.async = true;\n",
       "    tag.onload = () => {\n",
       "        exports = savedexports;\n",
       "        module = savedmodule;\n",
       "        resolve();\n",
       "    };\n",
       "  var firstScriptTag = document.getElementsByTagName('script')[0];\n",
       "  firstScriptTag.parentNode.insertBefore(tag, firstScriptTag);\n",
       "});\n",
       "};\n",
       "\n",
       "if(typeof $3Dmolpromise === 'undefined') {\n",
       "$3Dmolpromise = null;\n",
       "  $3Dmolpromise = loadScriptAsync('https://cdnjs.cloudflare.com/ajax/libs/3Dmol/2.0.4/3Dmol-min.js');\n",
       "}\n",
       "\n",
       "var viewer_17168618177034638 = null;\n",
       "var warn = document.getElementById(\"3dmolwarning_17168618177034638\");\n",
       "if(warn) {\n",
       "    warn.parentNode.removeChild(warn);\n",
       "}\n",
       "$3Dmolpromise.then(function() {\n",
       "var viewergrid_17168618177034638 = null;\n",
       "viewergrid_17168618177034638 = $3Dmol.createViewerGrid(document.getElementById(\"3dmolviewer_17168618177034638\"),{rows: 1, cols: 1, control_all: true},{backgroundColor:\"white\"});\n",
       "viewer_17168618177034638 = viewergrid_17168618177034638[0][0];\n",
       "viewergrid_17168618177034638[0][0].zoomTo();\tviewergrid_17168618177034638[0][0].addModel(\"ATOM  1     N    GLY A 1        17.552  54.784  38.356                       N  \\nATOM  2     CA   GLY A 1        17.026  53.470  37.818                       C  \\nATOM  3     C    GLY A 1        15.900  52.900  38.642                       C  \\nATOM  4     O    GLY A 1        15.588  53.502  39.696                       O  \\nATOM  5     N    PRO A 2        15.218  51.854  38.210                       N  \\nATOM  6     CA   PRO A 2        14.662  50.836  39.028                       C  \\nATOM  7     C    PRO A 2        15.408  50.504  40.306                       C  \\nATOM  8     O    PRO A 2        16.644  50.402  40.274                       O  \\nATOM  9     CB   PRO A 2        14.274  49.606  38.146                       C  \\nATOM  10    CG   PRO A 2        14.318  50.154  36.758                       C  \\nATOM  11    CD   PRO A 2        15.340  51.330  36.866                       C  \\nATOM  12    N    HIS A 3        14.736  50.168  41.486                       N  \\nATOM  13    CA   HIS A 3        15.424  49.730  42.662                       C  \\nATOM  14    C    HIS A 3        16.132  48.332  42.572                       C  \\nATOM  15    O    HIS A 3        15.952  47.722  41.564                       O  \\nATOM  16    CB   HIS A 3        14.484  49.634  43.850                       C  \\nATOM  17    CG   HIS A 3        13.960  50.952  44.452                       C  \\nATOM  18    ND1  HIS A 3        14.950  51.824  44.832                       N  \\nATOM  19    CE1  HIS A 3        14.318  52.932  45.224                       C  \\nATOM  20    NE2  HIS A 3        12.996  52.748  45.230                       N  \\nATOM  21    CD2  HIS A 3        12.742  51.526  44.668                       C  \\nATOM  22    N    MET A 4        16.962  47.878  43.582                       N  \\nATOM  23    CA   MET A 4        17.800  46.670  43.600                       C  \\nATOM  24    C    MET A 4        17.052  45.380  43.794                       C  \\nATOM  25    O    MET A 4        15.904  45.412  44.288                       O  \\nATOM  26    CB   MET A 4        18.950  46.828  44.622                       C  \\nATOM  27    CG   MET A 4        18.492  46.810  46.144                       C  \\nATOM  28    SD   MET A 4        18.350  45.142  46.918                       S  \\nATOM  29    CE   MET A 4        17.904  45.810  48.572                       C  \\nATOM  30    N    THR A 5        17.642  44.290  43.292                       N  \\nATOM  31    CA   THR A 5        16.956  42.944  43.300                       C  \\nATOM  32    C    THR A 5        17.776  41.830  43.798                       C  \\nATOM  33    O    THR A 5        18.944  41.732  43.348                       O  \\nATOM  34    CB   THR A 5        16.300  42.624  41.896                       C  \\nATOM  35    OG1  THR A 5        15.926  41.268  41.712                       O  \\nATOM  36    CG2  THR A 5        17.258  42.884  40.806                       C  \\nATOM  37    N    LYS A 6        17.294  41.022  44.738                       N  \\nATOM  38    CA   LYS A 6        18.060  40.024  45.394                       C  \\nATOM  39    C    LYS A 6        18.310  38.864  44.434                       C  \\nATOM  40    O    LYS A 6        17.424  38.446  43.710                       O  \\nATOM  41    CB   LYS A 6        17.406  39.408  46.720                       C  \\nATOM  42    CG   LYS A 6        17.004  40.462  47.706                       C  \\nATOM  43    CD   LYS A 6        18.276  41.280  48.140                       C  \\nATOM  44    CE   LYS A 6        17.976  42.106  49.338                       C  \\nATOM  45    NZ   LYS A 6        19.136  42.626  49.986                       N  \\nATOM  46    N    LEU A 7        19.560  38.362  44.380                       N  \\nATOM  47    CA   LEU A 7        20.002  37.342  43.540                       C  \\nATOM  48    C    LEU A 7        19.742  35.948  44.068                       C  \\nATOM  49    O    LEU A 7        19.980  35.690  45.244                       O  \\nATOM  50    CB   LEU A 7        21.506  37.442  43.226                       C  \\nATOM  51    CG   LEU A 7        21.946  38.532  42.288                       C  \\nATOM  52    CD1  LEU A 7        23.426  39.024  42.492                       C  \\nATOM  53    CD2  LEU A 7        21.546  38.048  40.886                       C  \\nATOM  54    CD   ILE A 8        16.078  32.942  44.730                       C  \\nATOM  55    CA   ILE A 8        19.132  33.768  43.618                       C  \\nATOM  56    C    ILE A 8        20.316  32.856  43.248                       C  \\nATOM  57    O    ILE A 8        20.494  31.744  43.754                       O  \\nATOM  58    CB   ILE A 8        17.880  33.274  42.890                       C  \\nATOM  59    CG1  ILE A 8        17.066  32.354  43.762                       C  \\nATOM  60    CG2  ILE A 8        18.146  32.640  41.506                       C  \\nATOM  61    N    TYR A 9        21.280  33.388  42.420                       N  \\nATOM  62    CA   TYR A 9        22.520  32.754  41.974                       C  \\nATOM  63    C    TYR A 9        22.362  31.384  41.206                       C  \\nATOM  64    O    TYR A 9        22.804  30.310  41.674                       O  \\nATOM  65    CB   TYR A 9        23.518  32.620  43.130                       C  \\nATOM  66    CG   TYR A 9        23.866  33.994  43.774                       C  \\nATOM  67    CD1  TYR A 9        23.124  34.598  44.734                       C  \\nATOM  68    CE1  TYR A 9        23.566  35.828  45.298                       C  \\nATOM  69    CZ   TYR A 9        24.750  36.410  44.806                       C  \\nATOM  70    OH   TYR A 9        25.264  37.540  45.422                       O  \\nATOM  71    CE2  TYR A 9        25.542  35.804  43.842                       C  \\nATOM  72    CD2  TYR A 9        25.146  34.502  43.418                       C  \\nATOM  73    N    GLU A 10       21.720  31.438  39.944                       N  \\nATOM  74    CA   GLU A 10       21.476  30.428  38.990                       C  \\nATOM  75    C    GLU A 10       22.788  29.752  38.552                       C  \\nATOM  76    O    GLU A 10       23.848  30.350  38.638                       O  \\nATOM  77    CB   GLU A 10       20.804  31.102  37.758                       C  \\nATOM  78    CG   GLU A 10       19.398  31.680  38.104                       C  \\nATOM  79    CD   GLU A 10       18.650  32.112  36.898                       C  \\nATOM  80    OE1  GLU A 10       19.238  32.822  36.024                       O  \\nATOM  81    OE2  GLU A 10       17.402  31.984  36.804                       O  \\nATOM  82    N    ARG A 11       22.758  28.446  38.196                       N  \\nATOM  83    CA   ARG A 11       23.922  27.588  37.796                       C  \\nATOM  84    C    ARG A 11       24.930  28.258  36.840                       C  \\nATOM  85    O    ARG A 11       26.104  28.328  37.126                       O  \\nATOM  86    CB   ARG A 11       23.418  26.250  37.180                       C  \\nATOM  87    CG   ARG A 11       24.526  25.176  36.790                       C  \\nATOM  88    CD   ARG A 11       23.946  23.758  36.528                       C  \\nATOM  89    NE   ARG A 11       25.100  22.958  35.970                       N  \\nATOM  90    CZ   ARG A 11       25.826  22.178  36.770                       C  \\nATOM  91    NH1  ARG A 11       25.778  22.288  38.060                       N  \\nATOM  92    NH2  ARG A 11       26.580  21.332  36.196                       N  \\nATOM  93    N    ALA A 12       24.408  28.912  35.716                       N  \\nATOM  94    CA   ALA A 12       25.228  29.752  34.782                       C  \\nATOM  95    C    ALA A 12       25.960  30.926  35.382                       C  \\nATOM  96    O    ALA A 12       27.146  31.204  35.014                       O  \\nATOM  97    CB   ALA A 12       24.286  30.324  33.736                       C  \\nATOM  98    N    PHE A 13       25.238  31.692  36.224                       N  \\nATOM  99    CA   PHE A 13       25.816  32.816  37.000                       C  \\nATOM  100   C    PHE A 13       26.932  32.332  37.870                       C  \\nATOM  101   O    PHE A 13       28.054  32.914  37.868                       O  \\nATOM  102   CB   PHE A 13       24.706  33.488  37.796                       C  \\nATOM  103   CG   PHE A 13       25.232  34.726  38.406                       C  \\nATOM  104   CD1  PHE A 13       25.574  34.766  39.776                       C  \\nATOM  105   CE1  PHE A 13       25.904  35.952  40.380                       C  \\nATOM  106   CZ   PHE A 13       25.796  37.196  39.614                       C  \\nATOM  107   CE2  PHE A 13       25.578  37.112  38.244                       C  \\nATOM  108   CD2  PHE A 13       25.288  35.898  37.624                       C  \\nATOM  109   N    MET A 14       26.724  31.226  38.616                       N  \\nATOM  110   CA   MET A 14       27.742  30.616  39.418                       C  \\nATOM  111   C    MET A 14       28.998  30.178  38.736                       C  \\nATOM  112   O    MET A 14       30.120  30.456  39.190                       O  \\nATOM  113   CB   MET A 14       27.226  29.556  40.396                       C  \\nATOM  114   CG   MET A 14       26.294  30.136  41.554                       C  \\nATOM  115   SD   MET A 14       27.040  31.418  42.622                       S  \\nATOM  116   CE   MET A 14       27.704  30.266  43.810                       C  \\nATOM  117   N    LYS A 15       28.850  29.448  37.630                       N  \\nATOM  118   CA   LYS A 15       29.942  29.116  36.774                       C  \\nATOM  119   C    LYS A 15       30.718  30.280  36.328                       C  \\nATOM  120   O    LYS A 15       31.952  30.268  36.344                       O  \\nATOM  121   CB   LYS A 15       29.430  28.356  35.544                       C  \\nATOM  122   CG   LYS A 15       28.880  26.966  35.910                       C  \\nATOM  123   CD   LYS A 15       30.014  25.918  35.978                       C  \\nATOM  124   CE   LYS A 15       29.410  24.506  36.356                       C  \\nATOM  125   NZ   LYS A 15       30.458  23.576  36.528                       N  \\nATOM  126   N    ASN A 16       30.072  31.378  35.984                       N  \\nATOM  127   CA   ASN A 16       30.900  32.488  35.538                       C  \\nATOM  128   C    ASN A 16       31.554  33.240  36.686                       C  \\nATOM  129   O    ASN A 16       32.630  33.806  36.554                       O  \\nATOM  130   CB   ASN A 16       30.028  33.486  34.708                       C  \\nATOM  131   CG   ASN A 16       30.894  34.618  34.050                       C  \\nATOM  132   OD1  ASN A 16       30.678  35.804  34.336                       O  \\nATOM  133   ND2  ASN A 16       31.796  34.292  33.126                       N  \\nATOM  134   N    LEU A 17       30.944  33.180  37.916                       N  \\nATOM  135   CA   LEU A 17       31.450  33.832  39.090                       C  \\nATOM  136   C    LEU A 17       32.728  33.150  39.696                       C  \\nATOM  137   O    LEU A 17       33.652  33.782  40.256                       O  \\nATOM  138   CB   LEU A 17       30.246  33.914  40.112                       C  \\nATOM  139   CG   LEU A 17       30.534  34.432  41.506                       C  \\nATOM  140   CD1  LEU A 17       31.072  35.872  41.468                       C  \\nATOM  141   CD2  LEU A 17       29.278  34.474  42.472                       C  \\nATOM  142   N    ARG A 18       32.792  31.770  39.714                       N  \\nATOM  143   CA   ARG A 18       33.938  30.946  40.192                       C  \\nATOM  144   C    ARG A 18       35.104  30.944  39.144                       C  \\nATOM  145   O    ARG A 18       36.232  30.618  39.442                       O  \\nATOM  146   CB   ARG A 18       33.670  29.480  40.550                       C  \\nATOM  147   CG   ARG A 18       32.572  29.208  41.530                       C  \\nATOM  148   CD   ARG A 18       32.860  29.758  42.992                       C  \\nATOM  149   NE   ARG A 18       34.006  29.066  43.566                       N  \\nATOM  150   CZ   ARG A 18       35.216  29.596  43.786                       C  \\nATOM  151   NH1  ARG A 18       35.384  30.884  43.908                       N  \\nATOM  152   NH2  ARG A 18       36.228  28.842  43.896                       N  \\nATOM  153   N    GLY A 19       34.726  31.378  37.952                       N  \\nATOM  154   CA   GLY A 19       35.710  31.428  36.852                       C  \\nATOM  155   C    GLY A 19       36.004  30.130  36.092                       C  \\nATOM  156   O    GLY A 19       36.826  30.064  35.182                       O  \\nATOM  157   N    SER A 20       35.072  29.214  36.372                       N  \\nATOM  158   CA   SER A 20       34.858  27.928  35.724                       C  \\nATOM  159   C    SER A 20       34.458  27.994  34.218                       C  \\nATOM  160   O    SER A 20       33.902  29.008  33.720                       O  \\nATOM  161   CB   SER A 20       33.682  27.220  36.464                       C  \\nATOM  162   OG   SER A 20       33.856  27.130  37.874                       O  \\nATOM  163   N    PRO A 21       34.740  26.974  33.406                       N  \\nATOM  164   CA   PRO A 21       34.254  26.792  32.056                       C  \\nATOM  165   C    PRO A 21       32.658  26.860  31.972                       C  \\nATOM  166   O    PRO A 21       32.000  26.270  32.908                       O  \\nATOM  167   CB   PRO A 21       34.658  25.400  31.574                       C  \\nATOM  168   CG   PRO A 21       35.920  25.136  32.442                       C  \\nATOM  169   CD   PRO A 21       35.636  25.878  33.746                       C  \\nATOM  170   N    LEU A 22       32.094  27.572  31.010                       N  \\nATOM  171   CA   LEU A 22       30.650  27.736  30.788                       C  \\nATOM  172   C    LEU A 22       30.362  27.788  29.222                       C  \\nATOM  173   O    LEU A 22       30.944  28.626  28.562                       O  \\nATOM  174   CB   LEU A 22       30.252  29.082  31.340                       C  \\nATOM  175   CG   LEU A 22       28.768  29.326  31.208                       C  \\nATOM  176   CD1  LEU A 22       27.998  28.306  31.962                       C  \\nATOM  177   CD2  LEU A 22       28.406  30.672  31.830                       C  \\nATOM  178   N    SER A 23       29.450  26.880  28.748                       N  \\nATOM  179   CA   SER A 23       28.886  26.814  27.350                       C  \\nATOM  180   C    SER A 23       29.664  25.852  26.456                       C  \\nATOM  181   O    SER A 23       30.882  25.778  26.674                       O  \\nATOM  182   CB   SER A 23       28.726  28.212  26.702                       C  \\nATOM  183   OG   SER A 23       28.032  28.084  25.438                       O  \\nATOM  184   N    GLN A 24       29.032  25.202  25.454                       N  \\nATOM  185   CA   GLN A 24       29.678  24.190  24.762                       C  \\nATOM  186   C    GLN A 24       29.004  24.026  23.348                       C  \\nATOM  187   O    GLN A 24       27.828  24.430  23.172                       O  \\nATOM  188   CB   GLN A 24       29.706  22.766  25.420                       C  \\nATOM  189   CG   GLN A 24       30.750  22.640  26.502                       C  \\nATOM  190   CD   GLN A 24       30.984  21.326  27.196                       C  \\nATOM  191   OE1  GLN A 24       31.958  21.068  27.882                       O  \\nATOM  192   NE2  GLN A 24       29.990  20.366  27.060                       N  \\nATOM  193   N    THR A 25       29.774  23.510  22.354                       N  \\nATOM  194   CA   THR A 25       29.226  23.278  21.016                       C  \\nATOM  195   C    THR A 25       28.312  22.030  21.000                       C  \\nATOM  196   O    THR A 25       28.508  21.164  21.816                       O  \\nATOM  197   CB   THR A 25       30.354  23.182  19.866                       C  \\nATOM  198   OG1  THR A 25       29.752  23.430  18.622                       O  \\nATOM  199   CG2  THR A 25       31.120  21.850  19.930                       C  \\nATOM  200   N    PRO A 26       27.292  21.884  20.192                       N  \\nATOM  201   CA   PRO A 26       26.588  20.654  19.924                       C  \\nATOM  202   C    PRO A 26       27.542  19.546  19.510                       C  \\nATOM  203   O    PRO A 26       28.482  19.932  18.798                       O  \\nATOM  204   CB   PRO A 26       25.550  21.002  18.810                       C  \\nATOM  205   CG   PRO A 26       25.216  22.522  19.058                       C  \\nATOM  206   CD   PRO A 26       26.614  22.952  19.472                       C  \\nATOM  207   N    PRO A 27       27.392  18.244  19.730                       N  \\nATOM  208   CA   PRO A 27       28.062  17.272  18.858                       C  \\nATOM  209   C    PRO A 27       27.498  17.294  17.440                       C  \\nATOM  210   O    PRO A 27       26.390  17.722  17.222                       O  \\nATOM  211   CB   PRO A 27       27.690  15.954  19.548                       C  \\nATOM  212   CG   PRO A 27       26.402  16.100  20.316                       C  \\nATOM  213   CD   PRO A 27       26.368  17.624  20.558                       C  \\nATOM  214   N    SER A 28       28.284  16.868  16.432                       N  \\nATOM  215   CA   SER A 28       28.002  16.840  15.034                       C  \\nATOM  216   C    SER A 28       27.672  18.116  14.250                       C  \\nATOM  217   O    SER A 28       27.798  19.206  14.728                       O  \\nATOM  218   CB   SER A 28       26.876  15.674  14.724                       C  \\nATOM  219   OG   SER A 28       26.626  15.318  13.354                       O  \\nATOM  220   N    ASN A 29       27.338  17.962  12.948                       N  \\nATOM  221   CA   ASN A 29       27.204  19.020  11.944                       C  \\nATOM  222   C    ASN A 29       26.236  18.668  10.850                       C  \\nATOM  223   O    ASN A 29       26.146  19.306   9.806                       O  \\nATOM  224   CB   ASN A 29       28.602  19.608  11.544                       C  \\nATOM  225   CG   ASN A 29       28.576  20.874  10.738                       C  \\nATOM  226   OD1  ASN A 29       27.528  21.514  10.686                       O  \\nATOM  227   ND2  ASN A 29       29.644  21.230  10.034                       N  \\nATOM  228   N    VAL A 30       25.488  17.604  10.998                       N  \\nATOM  229   CA   VAL A 30       24.466  17.216   9.958                       C  \\nATOM  230   C    VAL A 30       23.394  18.216   9.510                       C  \\nATOM  231   O    VAL A 30       23.026  19.042  10.328                       O  \\nATOM  232   CB   VAL A 30       23.740  15.886  10.260                       C  \\nATOM  233   CG1  VAL A 30       24.818  14.716  10.430                       C  \\nATOM  234   CG2  VAL A 30       22.954  16.030  11.620                       C  \\nATOM  235   N    PRO A 31       22.972  18.272   8.188                       N  \\nATOM  236   CA   PRO A 31       21.942  19.172   7.620                       C  \\nATOM  237   C    PRO A 31       20.782  19.654   8.514                       C  \\nATOM  238   O    PRO A 31       20.170  18.888   9.250                       O  \\nATOM  239   CB   PRO A 31       21.446  18.386   6.440                       C  \\nATOM  240   CG   PRO A 31       22.646  17.596   5.914                       C  \\nATOM  241   CD   PRO A 31       23.508  17.376   7.194                       C  \\nATOM  242   N    SER A 32       20.500  20.940   8.422                       N  \\nATOM  243   CA   SER A 32       19.344  21.622   9.092                       C  \\nATOM  244   C    SER A 32       17.930  21.128   8.944                       C  \\nATOM  245   O    SER A 32       17.048  21.260   9.862                       O  \\nATOM  246   CB   SER A 32       19.264  23.134   8.668                       C  \\nATOM  247   OG   SER A 32       20.438  23.882   9.082                       O  \\nATOM  248   N    CYS A 33       17.620  20.552   7.774                       N  \\nATOM  249   CA   CYS A 33       16.430  19.842   7.398                       C  \\nATOM  250   C    CYS A 33       16.146  18.670   8.324                       C  \\nATOM  251   O    CYS A 33       14.972  18.328   8.504                       O  \\nATOM  252   CB   CYS A 33       16.564  19.306   5.912                       C  \\nATOM  253   SG   CYS A 33       17.936  18.200   5.616                       S  \\nATOM  254   N    LEU A 34       17.154  18.012   8.950                       N  \\nATOM  255   CA   LEU A 34       16.876  16.918   9.824                       C  \\nATOM  256   C    LEU A 34       16.082  17.256  11.068                       C  \\nATOM  257   O    LEU A 34       16.302  18.378  11.592                       O  \\nATOM  258   CB   LEU A 34       18.218  16.126  10.242                       C  \\nATOM  259   CG   LEU A 34       18.730  15.340   8.972                       C  \\nATOM  260   CD1  LEU A 34       19.952  14.496   9.478                       C  \\nATOM  261   CD2  LEU A 34       17.754  14.494   8.242                       C  \\nATOM  262   N    LEU A 35       15.176  16.352  11.468                       N  \\nATOM  263   CA   LEU A 35       14.362  16.460  12.716                       C  \\nATOM  264   C    LEU A 35       14.842  15.282  13.604                       C  \\nATOM  265   O    LEU A 35       14.698  14.120  13.334                       O  \\nATOM  266   CB   LEU A 35       12.838  16.368  12.354                       C  \\nATOM  267   CG   LEU A 35       12.228  17.566  11.624                       C  \\nATOM  268   CD1  LEU A 35       10.704  17.454  11.294                       C  \\nATOM  269   CD2  LEU A 35       12.466  18.910  12.442                       C  \\nATOM  270   N    ARG A 36       15.404  15.572  14.822                       N  \\nATOM  271   CA   ARG A 36       15.798  14.674  15.796                       C  \\nATOM  272   C    ARG A 36       14.582  14.222  16.548                       C  \\nATOM  273   O    ARG A 36       13.584  14.926  16.678                       O  \\nATOM  274   CB   ARG A 36       16.928  15.166  16.806                       C  \\nATOM  275   CG   ARG A 36       18.430  15.114  16.384                       C  \\nATOM  276   CD   ARG A 36       19.014  16.172  15.458                       C  \\nATOM  277   NE   ARG A 36       20.502  15.918  15.462                       N  \\nATOM  278   CZ   ARG A 36       21.420  16.680  14.938                       C  \\nATOM  279   NH1  ARG A 36       20.950  17.716  14.192                       N  \\nATOM  280   NH2  ARG A 36       22.680  16.618  15.286                       N  \\nATOM  281   N    GLY A 37       14.728  13.028  17.130                       N  \\nATOM  282   CA   GLY A 37       13.770  12.284  17.986                       C  \\nATOM  283   C    GLY A 37       12.494  12.014  17.302                       C  \\nATOM  284   O    GLY A 37       12.278  12.248  16.116                       O  \\nATOM  285   N    THR A 38       11.446  11.570  18.054                       N  \\nATOM  286   CA   THR A 38       10.120  11.332  17.534                       C  \\nATOM  287   C    THR A 38        9.284  12.612  17.782                       C  \\nATOM  288   CB   THR A 38        9.308  10.208  18.192                       C  \\nATOM  289   OG1  THR A 38        9.374  10.270  19.672                       O  \\nATOM  290   CG2  THR A 38        9.938   8.918  17.702                       C  \",\"pdb\");\n",
       "\tviewergrid_17168618177034638[0][0].setStyle({\"model\": -1},{});\n",
       "\tviewergrid_17168618177034638[0][0].addStyle({\"model\": -1},{\"cartoon\": {\"color\": \"spectrum\"}});\n",
       "\tviewergrid_17168618177034638[0][0].addStyle({\"model\": -1},{\"stick\": {\"radius\": 0.2}});\n",
       "\tviewergrid_17168618177034638[0][0].zoomTo();\n",
       "\tviewergrid_17168618177034638[0][0].setBackgroundColor(\"rgb(0,0,0)\",0);\n",
       "viewergrid_17168618177034638[0][0].render();\n",
       "});\n",
       "</script>"
      ]
     },
     "metadata": {},
     "output_type": "display_data"
    },
    {
     "data": {
      "text/plain": [
       "<py3Dmol.view at 0x7f59b1470910>"
      ]
     },
     "execution_count": 12,
     "metadata": {},
     "output_type": "execute_result"
    }
   ],
   "source": [
    "from moleculib.graphics.py3Dmol import plot_py3dmol_grid\n",
    "plot_py3dmol_grid([[dataset.splits['train'][0]]])"
   ]
  },
  {
   "cell_type": "markdown",
   "id": "01b95126",
   "metadata": {},
   "source": [
    "## Model Setup "
   ]
  },
  {
   "cell_type": "code",
   "execution_count": 26,
   "id": "270eda44",
   "metadata": {},
   "outputs": [],
   "source": [
    "\n",
    "from functools import partial\n",
    "from typing import List\n",
    "\n",
    "from tensorclouds.nn.protein import protein_to_tensor_cloud, tensor_cloud_to_protein\n",
    "# from model.base.denoiser import Denoiser\n",
    "from tensorclouds.nn.stochastic_interpolants import TensorCloudMirrorInterpolant\n",
    "from configs.mirror_interpolant import ProteinMirrorInterpolant\n",
    "\n",
    "\n",
    "EPS = jnp.array([1.0, 3.0])\n",
    "\n",
    "import functools\n",
    "import math\n",
    "import haiku as hk\n",
    "import jax.numpy as jnp\n",
    "import e3nn_jax as e3nn\n",
    "from typing import List\n",
    "import jax\n",
    "\n",
    "model_params = dict(\n",
    "    coord_layers=[16, 16, 16],\n",
    "    feature_layers=[16, 16],\n",
    "    k=8,\n",
    "    k_seq=16,\n",
    "    radial_cut=32.0,\n",
    "    leading_shape=(pad_size,),\n",
    "    var_features=0.5,\n",
    "    var_coords=0.5,\n",
    ")\n",
    "\n",
    "model = hk.transform(lambda *a, **ka: ProteinMirrorInterpolant(**model_params)(*a, **ka))\n",
    "sample = hk.transform(lambda *a, **ka: ProteinMirrorInterpolant(**model_params).sample(*a, **ka))\n",
    "rng_seq = hk.PRNGSequence(42)\n",
    "params = model.init(next(rng_seq), batch_dict([x0.to_dict()]))"
   ]
  },
  {
   "cell_type": "code",
   "execution_count": 39,
   "id": "7e3ca3ec",
   "metadata": {},
   "outputs": [
    {
     "name": "stdout",
     "output_type": "stream",
     "text": [
      "(1, 2, 14, 3)\n"
     ]
    },
    {
     "name": "stderr",
     "output_type": "stream",
     "text": [
      "100%|██████████| 1/1 [00:22<00:00, 22.62s/it]\n"
     ]
    }
   ],
   "source": [
    "def batch_dict(list_):\n",
    "    keys = list_[0].keys()\n",
    "    return {k: jnp.stack([d[k] for d in list_]) for k in keys if list_[0][k] is not None}\n",
    "\n",
    "\n",
    "def unbatch_dict(d):\n",
    "    keys = d.keys()\n",
    "    return [{k: d[k][i] for k in keys} for i in range(d[list(keys)[0]].shape[0])]\n",
    "\n",
    "\n",
    "@functools.partial(jax.jit, static_argnums=(2,))\n",
    "def _simulate(key, prot, interp_steps=100, eps=jnp.array([1.0,1.0])):\n",
    "    keys = jax.random.split(key, prot['atom_coord'].shape[0]) \n",
    "    return jax.vmap(lambda k, p: sample.apply(params, k, p, num_steps=1, interp_steps=interp_steps, eps=eps))(keys, prot)\n",
    "\n",
    "def rollout(prot, num_steps, interp_steps, eps):\n",
    "    traj = []\n",
    "    prot = batch_dict(prot)\n",
    "    for _ in tqdm(range(num_steps)):\n",
    "        prot, _ = _simulate(next(rng_seq), prot, interp_steps=interp_steps, eps=eps)\n",
    "        traj.append(unbatch_dict(prot))\n",
    "    prot = unbatch_dict(prot)\n",
    "    return prot, traj\n",
    "\n",
    "_ = rollout([x0.to_dict()], num_steps=1, interp_steps=300, eps=jnp.array([1.0,1.0]))"
   ]
  },
  {
   "cell_type": "code",
   "execution_count": 40,
   "id": "ff8596fb",
   "metadata": {},
   "outputs": [],
   "source": [
    "jax.config.update('jax_disable_jit', False)\n",
    "jax.config.update('jax_debug_nans', False)\n",
    "\n",
    "optimizer = optax.adam(1e-2, 0.9, 0.999)\n",
    "opt_state = optimizer.init(params)\n",
    "\n",
    "from model.losses import LossPipe\n",
    "from model.losses import MirrorInterpolantLoss\n",
    "\n",
    "loss_fn = LossPipe(\n",
    "    loss_list=[\n",
    "        MirrorInterpolantLoss(),\n",
    "    ]\n",
    ")\n",
    "\n",
    "def loss(params, rng, data):\n",
    "    def _apply_loss(key, datum):\n",
    "        output = model.apply(params, key, datum)\n",
    "        _, loss_, metrics = loss_fn(key, output, datum, 0)\n",
    "        return loss_, {'loss': loss_, ** metrics }\n",
    "    rng_keys = jax.random.split(rng, len(data.residue_token))\n",
    "    losses, metrics = jax.vmap(_apply_loss)(rng_keys, data)\n",
    "    metrics = { k: jnp.mean(v) for k, v in metrics.items() }\n",
    "    return jnp.mean(losses), [metrics]\n",
    "\n",
    "@jax.jit\n",
    "def update(rng, params, opt_state, data) -> List:\n",
    "    key, rng = jax.random.split(rng, 2)\n",
    "    grads, [metrics] = jax.grad(\n",
    "        loss,\n",
    "        has_aux=True,\n",
    "        argnums=0,\n",
    "    )(params, key, data)\n",
    "    updates, opt_state = optimizer.update(grads, opt_state, params)\n",
    "    params = optax.apply_updates(params, updates)\n",
    "    return params, opt_state, metrics\n"
   ]
  },
  {
   "cell_type": "markdown",
   "id": "432341f3",
   "metadata": {},
   "source": [
    "## Train "
   ]
  },
  {
   "cell_type": "code",
   "execution_count": 41,
   "id": "a7b26c30",
   "metadata": {},
   "outputs": [],
   "source": [
    "num_epochs = 10\n",
    "metrics = defaultdict(list)"
   ]
  },
  {
   "cell_type": "code",
   "execution_count": 42,
   "id": "c5d22bd1",
   "metadata": {},
   "outputs": [
    {
     "name": "stderr",
     "output_type": "stream",
     "text": [
      "100%|██████████| 63/63 [00:00<00:00, 355640.85it/s]\n",
      "100%|██████████| 63/63 [00:00<00:00, 650840.28it/s]\n",
      "100%|██████████| 63/63 [00:00<00:00, 636725.67it/s]\n",
      "100%|██████████| 63/63 [00:00<00:00, 665594.84it/s]\n",
      "100%|██████████| 63/63 [00:00<00:00, 431766.59it/s]\n",
      "100%|██████████| 63/63 [00:00<00:00, 451694.28it/s]\n",
      "100%|██████████| 63/63 [00:00<00:00, 526376.80it/s]\n",
      "100%|██████████| 63/63 [00:00<00:00, 400972.92it/s]\n",
      "100%|██████████| 63/63 [00:00<00:00, 416127.80it/s]\n",
      "100%|██████████| 63/63 [00:00<00:00, 542589.63it/s]\n"
     ]
    }
   ],
   "source": [
    "total_step = 0\n",
    "import pickle\n",
    "for epoch in range(num_epochs):\n",
    "    # bar = tqdm(dataloader * 50)\n",
    "    bar = tqdm(dataloader)\n",
    "    for step, data in enumerate(bar):\n",
    "        if len(data) != batch_size: continue\n",
    "        data = batch_dict([batch_dict([d.to_dict()]) for d in data])\n",
    "        params, opt_state, step_metrics = update(\n",
    "            next(rng_seq), params, opt_state, data\n",
    "        )\n",
    "        for k, v in step_metrics.items(): metrics[k].append(v)\n",
    "        bar.set_postfix({k: f'{float(v):.2e}' for k, v in step_metrics.items()})\n",
    "\n",
    "        if (total_step % 1000) == 0:\n",
    "            # out, traj = rollout(data[0], 1, interp_steps=100, eps=EPS)\n",
    "            # plot_py3dmol_traj(traj).show()\n",
    "            with open('p.pkl', 'wb') as f: pickle.dump(params, f)\n",
    "        total_step += 1"
   ]
  },
  {
   "cell_type": "code",
   "execution_count": null,
   "id": "ab3a460a",
   "metadata": {},
   "outputs": [],
   "source": [
    "import matplotlib.pyplot as plt\n",
    "downsample = 5\n",
    "window = 100\n",
    "\n",
    "fig, axs = plt.subplots(len(metrics.items()), 1, figsize=(8, 6))\n",
    "for i, (metric, array) in enumerate(metrics.items()):\n",
    "    array = np.array(array)[::downsample]\n",
    "    axs[i].plot(array - np.min(array))\n",
    "    axs[i].set_ylabel(metric)\n",
    "    axs[i].set_yscale('log')\n",
    "fig.show()"
   ]
  },
  {
   "cell_type": "markdown",
   "id": "4695f5fe",
   "metadata": {},
   "source": [
    "## Simulate"
   ]
  },
  {
   "cell_type": "code",
   "execution_count": null,
   "id": "d2cd73c8",
   "metadata": {},
   "outputs": [],
   "source": [
    "out, traj = rollout(x0, 1, internal_traj=True)\n",
    "# plot_py3dmol_traj(traj[::5], window_size=(400, 400))"
   ]
  },
  {
   "cell_type": "code",
   "execution_count": null,
   "id": "15f5d5f6",
   "metadata": {},
   "outputs": [],
   "source": [
    "out, traj = rollout(x0, 500, interp_steps=100, eps=jnp.array([1.0, 1.0]))"
   ]
  },
  {
   "cell_type": "code",
   "execution_count": null,
   "id": "5377d176",
   "metadata": {},
   "outputs": [],
   "source": [
    "trajs = []\n",
    "# for _ in range(10):\n",
    "out, traj = rollout(out, 3000, interp_steps=300, eps=jnp.array([1.0, 1.0]))\n",
    "    # trajs.append(traj)\n"
   ]
  },
  {
   "cell_type": "code",
   "execution_count": null,
   "id": "fa6c6d9a",
   "metadata": {},
   "outputs": [],
   "source": [
    "# traj = [ x for t in trajs for x in t ]"
   ]
  },
  {
   "cell_type": "code",
   "execution_count": null,
   "id": "bc459e4a",
   "metadata": {},
   "outputs": [],
   "source": [
    "# traj[0].residue_token\n",
    "plot_py3dmol_traj(traj[-100:], window_size=(400, 400))"
   ]
  },
  {
   "cell_type": "code",
   "execution_count": null,
   "id": "ff9b6c15",
   "metadata": {},
   "outputs": [],
   "source": [
    "# out.to_pdb_str()\n",
    "# \n",
    "# repeat(np.arange(len(out.residue_token)), \"r -> r a\", a=14)[out.atom_mask]\n",
    "# expand it with standard np as a new dimension\n"
   ]
  },
  {
   "cell_type": "code",
   "execution_count": null,
   "id": "dc9b8311",
   "metadata": {},
   "outputs": [],
   "source": [
    "len(out.residue_token)"
   ]
  },
  {
   "cell_type": "code",
   "execution_count": null,
   "id": "f331c36a",
   "metadata": {},
   "outputs": [],
   "source": [
    "v = plot_py3dmol_traj(traj[::4])\n",
    "v.show()\n",
    "html = v._make_html()\n",
    "\n",
    "html_path = os.path.join(f\"chignolin.html\")\n",
    "with open(html_path, \"w\") as f:\n",
    "    f.write(html)"
   ]
  },
  {
   "cell_type": "code",
   "execution_count": null,
   "id": "0de85a5a",
   "metadata": {},
   "outputs": [],
   "source": [
    "# real_traj = dataset.splits['train'][:len(traj)]\n",
    "real_traj = dataset.splits['train']"
   ]
  },
  {
   "cell_type": "markdown",
   "id": "8d3129ee",
   "metadata": {},
   "source": [
    "## Benchmarks"
   ]
  },
  {
   "cell_type": "code",
   "execution_count": null,
   "id": "5f98ae8e",
   "metadata": {},
   "outputs": [],
   "source": [
    "import mdtraj as md\n",
    "from tempfile import gettempdir\n",
    "import os \n",
    "\n",
    "def protein_datum_to_md_traj(traj, downsample=1):\n",
    "    pdbstr = traj_to_pdb(traj, tail=0)\n",
    "    with open(f'{gettempdir()}/tmp.pdb', 'w') as f:\n",
    "        f.write(pdbstr)\n",
    "    mdtraj_datum = md.load(f'{gettempdir()}/tmp.pdb')\n",
    "    os.remove(f'{gettempdir()}/tmp.pdb')\n",
    "    return mdtraj_datum\n",
    "\n",
    "\n",
    "md_traj = protein_datum_to_md_traj(traj)\n",
    "real_md_traj = protein_datum_to_md_traj(dataset.splits['train'][:1000])"
   ]
  },
  {
   "cell_type": "markdown",
   "id": "3447cbab",
   "metadata": {},
   "source": [
    "### Evaluate Chemistry"
   ]
  },
  {
   "cell_type": "code",
   "execution_count": null,
   "id": "6cf7887e",
   "metadata": {},
   "outputs": [],
   "source": [
    "from moleculib.protein.metrics import StandardChemicalDeviation\n",
    "\n",
    "def measure_chemistry(traj):\n",
    "    metrics = defaultdict(list)\n",
    "    chem = StandardChemicalDeviation()\n",
    "    for step in tqdm(range(0, len(traj), 4)):\n",
    "        metrics_ = chem(traj[step])\n",
    "        for k, v in metrics_.items():\n",
    "            metrics[k].append(v)\n",
    "    return metrics\n",
    "\n",
    "real_metrics = measure_chemistry(real_traj)\n",
    "fake_metrics = measure_chemistry(traj)"
   ]
  },
  {
   "cell_type": "code",
   "execution_count": null,
   "id": "978108db",
   "metadata": {},
   "outputs": [],
   "source": [
    "import matplotlib.pyplot as plt\n",
    "window = 100\n",
    "fig, axs = plt.subplots(len(fake_metrics.items()), 1, figsize=(8, 10))\n",
    "# for i, (metric, array) in enumerate(real_metrics.items()):\n",
    "    # axs[i].plot(array)\n",
    "for i, (metric, array) in enumerate(fake_metrics.items()):\n",
    "    axs[i].set_title(metric)\n",
    "    axs[i].plot(array)\n",
    "fig.legend(['real', 'fake'])\n",
    "fig.tight_layout()\n",
    "fig.show()"
   ]
  },
  {
   "cell_type": "code",
   "execution_count": null,
   "id": "c6d9e6d3",
   "metadata": {},
   "outputs": [],
   "source": [
    "# data_transform = plat.cfg['trainer']\n",
    "from hydra_zen import instantiate\n"
   ]
  },
  {
   "cell_type": "markdown",
   "id": "b915369b",
   "metadata": {},
   "source": [
    "### Load Pretrained Model"
   ]
  },
  {
   "cell_type": "code",
   "execution_count": null,
   "id": "0b55fc0b",
   "metadata": {},
   "outputs": [],
   "source": [
    "from kheiron.pipeline.registry import Registry\n",
    "\n",
    "registry_path = '/mas/projects/molecularmachines/experiments/generative/allanc3'\n",
    "registry = Registry('ophiuchus', registry_path)\n",
    "model_name = 'youthful-shape-1240'\n",
    "from functools import reduce\n",
    "\n",
    "plat = registry.get_platform(model_name, read_only=True)\n",
    "\n",
    "data_transforms = instantiate(plat.cfg['trainer']['dataset']['transform'])\n",
    "data_transform = lambda datum: reduce(lambda x, f: f.transform(x), data_transforms, datum)\n",
    "\n",
    "params = plat.get_params(-1)\n",
    "premodel = plat.instantiate_model()\n",
    "transform = hk.transform(lambda *a, **ka: premodel().sample(*a, **ka))\n",
    "\n",
    "@functools.partial(jax.jit, static_argnums=(1,))\n",
    "def _simulate(prot, interp_steps=100):\n",
    "    return transform.apply(params, next(rng_seq), prot, num_steps=1, interp_steps=interp_steps)\n",
    "\n",
    "def rollout(prot, num_steps, interp_steps, internal_traj=False):\n",
    "    traj = []\n",
    "    for _ in tqdm(range(num_steps)):\n",
    "        out, int_traj = _simulate(prot, interp_steps=interp_steps)\n",
    "        if internal_traj:\n",
    "            internals = [tensor_cloud_to_protein(tc, prot) for tc in inner_split(inner_split(int_traj)[0])]\n",
    "            traj.extend(internals)\n",
    "        else:\n",
    "            traj.append(out)\n",
    "        prot = out\n",
    "    return out, traj\n",
    "\n",
    "\n",
    "rng_seq = hk.PRNGSequence(42)\n",
    "x0 = data_transform(dataset.splits['train'][1])\n",
    "\n",
    "x1, traj = rollout(x0, 50, 1000)\n",
    "plot_py3dmol_traj(traj, window_size=(400, 400))\n",
    "# rename paths so that the first folder, of name \"folder\" gets a \"_1\" appended to iter"
   ]
  },
  {
   "cell_type": "code",
   "execution_count": null,
   "id": "43fde6ef",
   "metadata": {},
   "outputs": [],
   "source": [
    "from typing import Dict, Any\n",
    "def compute_rmsd(traj: md.Trajectory, ref: md.Trajectory) -> float:\n",
    "    \"\"\"Calculate the RMSD (in Angstroms)\"\"\"\n",
    "    return 10 * md.rmsd(traj, ref)\n",
    "\n",
    "\n",
    "def compute_rmsf(traj: md.Trajectory, ref: md.Trajectory, selector: str = 'name CA') -> float:\n",
    "    \"\"\"Calculate the RMSF on alpha-carbons (in Angstroms)\"\"\"\n",
    "    # Select the alpha-carbon atoms\n",
    "    indices = ref.topology.select(selector)\n",
    "    return 10 * md.rmsf(traj.atom_slice(indices), ref.atom_slice(indices))\n",
    "\n",
    "\n",
    "def compute_radius_of_gyration(traj: md.Trajectory) -> float:\n",
    "    \"\"\"Calculate the radius of gyration (in Angstroms)\"\"\"\n",
    "    return 10 * md.compute_rg(traj)\n",
    "\n",
    "\n",
    "def compute_SASA(traj: md.Trajectory) -> float:\n",
    "    \"\"\"Calculate the solvent accessible surface area (in Angstroms^2)\"\"\"\n",
    "    return 100 * md.shrake_rupley(traj, mode='residue')\n",
    "\n",
    "\n",
    "\n",
    "\n",
    "def compute_contact_maps(traj: md.Trajectory, contacts: str, scheme: str, distance_cutoff: float) -> np.ndarray:\n",
    "    distances, residue_pairs = md.compute_contacts(traj, contacts=contacts, scheme=scheme, ignore_nonprotein=True)\n",
    "    distances = distances * 10  # C,nvert to Angstroms\n",
    "    contact_maps = md.geometry.squareform(distances, residue_pairs)\n",
    "    contact_maps[contact_maps > distance_cutoff] = 0\n",
    "    return contact_maps\n",
    "\n",
    "\n",
    "def compute_KL_divergence(hist1: np.ndarray, hist2: np.ndarray) -> float:\n",
    "    \"\"\"Compute the Kullback-Leibler divergence between two histograms.\"\"\"\n",
    "    div = hist1 * np.log(hist1 / hist2)\n",
    "    div = np.where(hist1 == 0, 0, div)\n",
    "    return np.sum(div)\n",
    "\n",
    "\n",
    "def compute_JS_divergence(hist1: np.ndarray, hist2: np.ndarray) -> float:\n",
    "    \"\"\"Compute the Jensen-Shannon divergence between two histograms.\"\"\"\n",
    "    mix = (hist1 + hist2) / 2\n",
    "    return (compute_KL_divergence(hist1, mix) + compute_KL_divergence(hist2, mix)) / 2\n",
    "            \n",
    "\n",
    "def norm_of_difference_in_CA_positions(traj: md.Trajectory, diff_index: int) -> np.ndarray:\n",
    "    \"\"\"Compute the norm of the difference in alpha-carbon positions between timesteps separated by `diff_index`.\"\"\"\n",
    "    # Select the alpha-carbon (CA) atoms.\n",
    "    ca_indices = traj.topology.select('name CA')\n",
    "    num_residues = len(ca_indices)\n",
    "    num_frames = traj.n_frames\n",
    "\n",
    "    alpha_carbon_positions = traj.xyz[:, ca_indices, :]\n",
    "    assert alpha_carbon_positions.shape == (num_frames, num_residues, 3)\n",
    "\n",
    "    # Convert to Angstroms.\n",
    "    alpha_carbon_positions = alpha_carbon_positions * 10\n",
    "\n",
    "    # Take the difference in CA coordinates between timesteps separated by `diff_index`.\n",
    "    alpha_carbon_positions_diff = alpha_carbon_positions[diff_index:] - alpha_carbon_positions[:-diff_index]\n",
    "    assert alpha_carbon_positions_diff.shape == (num_frames - diff_index, num_residues, 3)\n",
    "\n",
    "    # Compute the norm of the difference vector.\n",
    "    alpha_carbon_positions_norm = np.linalg.norm(alpha_carbon_positions_diff, axis=-1)\n",
    "    assert alpha_carbon_positions_norm.shape == (num_frames - diff_index, num_residues)\n",
    "\n",
    "    alpha_carbon_positions_sq_norm = np.square(alpha_carbon_positions_norm)\n",
    "    assert alpha_carbon_positions_sq_norm.shape == (num_frames - diff_index, num_residues)\n",
    "\n",
    "    alpha_carbon_positions_rmsf = np.sqrt(np.mean(alpha_carbon_positions_sq_norm, axis=-2))\n",
    "    return alpha_carbon_positions_rmsf\n",
    "\n",
    "\n",
    "def compute_metrics(traj: md.Trajectory, \n",
    "                    contact_map_distance_cutoff: float = 8.0,\n",
    "                    superpose: bool = True,\n",
    "                    ref: md.Trajectory = None) -> Dict[str, Any]:\n",
    "    metrics = {}    \n",
    "\n",
    "\n",
    "    \"\"\"Compute the RMSD, RMSF, radius of gyration, phi and psi angles, and contact map of the trajectory.\"\"\"\n",
    "    # Align the trajectory to the reference structure\n",
    "    if ref is not None:\n",
    "        if superpose:\n",
    "            print(\"Aligning to the reference structure\")\n",
    "            traj = traj.superpose(ref)\n",
    "        else:\n",
    "            print(\"Not aligning to the reference structure\")\n",
    "\n",
    "        rmsd = compute_rmsd(traj, ref)\n",
    "        rmsf = compute_rmsf(traj, ref)\n",
    "        gyration_radius = compute_radius_of_gyration(traj)\n",
    "\n",
    "        metrics = {\n",
    "            'rmsd': rmsd,\n",
    "            'rmsf': rmsf,\n",
    "            'gyration_radius': gyration_radius,\n",
    "        }\n",
    "    \n"
   ]
  },
  {
   "cell_type": "markdown",
   "id": "c428e233",
   "metadata": {},
   "source": [
    "### Measure Ramachandran"
   ]
  },
  {
   "cell_type": "code",
   "execution_count": null,
   "id": "62c0f0f6",
   "metadata": {},
   "outputs": [],
   "source": [
    "def compute_phi_and_psi_angles(traj: md.Trajectory) -> float:\n",
    "    # filter_backbone \n",
    "    # traj = traj.atom_slice(traj.top.select('backbone'))\n",
    "    _, phi_angles = md.compute_phi(traj)\n",
    "    _, psi_angles = md.compute_psi(traj)\n",
    "\n",
    "    phi_angles = np.rad2deg(phi_angles).flatten() # dropping the first one?\n",
    "    psi_angles = np.rad2deg(psi_angles).flatten()\n",
    "    return phi_angles, psi_angles\n",
    "\n",
    "def compute_phi_psi_histogram(phi_angles: np.ndarray, psi_angles: np.ndarray) -> np.ndarray:\n",
    "    return np.histogram2d(\n",
    "        phi_angles, psi_angles, bins=np.linspace(-180, 180, 60), density=True\n",
    "    )[0]\n",
    "\n",
    "\n",
    "\n",
    "def compute_KL_divergence(hist1: np.ndarray, hist2: np.ndarray) -> float:\n",
    "    \"\"\"Compute the Kullback-Leibler divergence between two histograms.\"\"\"\n",
    "    hist2 = np.where(hist2 == 0, 1, hist2)\n",
    "    div = hist1 * np.nan_to_num(np.log(hist1 / hist2))\n",
    "    div = np.where(hist1 == 0, 0, div)\n",
    "    return np.sum(div)\n",
    "\n",
    "hists =[]\n",
    "\n",
    "\n",
    "for label, traj_ in zip(('Reference', 'Model'), (real_md_traj, md_traj)):\n",
    "    phi_angles, psi_angles = compute_phi_and_psi_angles(traj_)\n",
    "\n",
    "    plt.hist2d(\n",
    "        phi_angles, psi_angles, bins=60, density=True,\n",
    "        range=[[-180, 180], [-180, 180]],\n",
    "    ) \n",
    "    plt.gca().set_aspect('equal', adjustable='box')\n",
    "    plt.xlabel('$\\phi$', fontsize=20)\n",
    "    plt.ylabel('$\\psi$', fontsize=20)\n",
    "\n",
    "    plt.xlim(-180, 180)\n",
    "    plt.xticks(np.arange(-180, 181, 60))\n",
    "\n",
    "    plt.ylim(-180, 180)\n",
    "    plt.yticks(np.arange(-180, 181, 60))\n",
    "    \n",
    "    plt.title(label)\n",
    "\n",
    "    plt.show()\n",
    "\n",
    "    hists.append(\n",
    "        compute_phi_psi_histogram(phi_angles, psi_angles)\n",
    "    )\n",
    "\n",
    "\n",
    "js = compute_JS_divergence(*hists)\n",
    "print(f\"JS divergence: {js:.5f}\")\n",
    "\n",
    "kl = compute_KL_divergence(*hists)\n",
    "print(f\"KL divergence: {kl:.5f}\")\n",
    "\n"
   ]
  },
  {
   "cell_type": "markdown",
   "id": "7a8e0f4a",
   "metadata": {},
   "source": [
    "### Pairwise Distance Distribution"
   ]
  },
  {
   "cell_type": "code",
   "execution_count": null,
   "id": "397aed7f",
   "metadata": {},
   "outputs": [],
   "source": [
    "\n",
    "contact_map_distance_cutoff = 8.0\n",
    "for label, traj_ in zip(('Reference', 'Model'), (real_md_traj, md_traj)):\n",
    "    c_map = compute_contact_maps(\n",
    "        _traj, contacts='all', scheme='ca', distance_cutoff=contact_map_distance_cutoff\n",
    "    )\n",
    "\n",
    "    z = c_map[0]\n",
    "    plt.imshow(\n",
    "        z,\n",
    "        cmap=plt.cm.viridis,\n",
    "    )\n",
    "    plt.gca().set_aspect('equal', adjustable='box')\n",
    "\n",
    "    plt.xlabel('Residue index', fontsize=13)\n",
    "    plt.ylabel('Residue index', fontsize=13)\n",
    "    \n",
    "    plt.title(label)\n",
    "\n",
    "    plt.show()"
   ]
  },
  {
   "cell_type": "code",
   "execution_count": null,
   "id": "6f963f44",
   "metadata": {},
   "outputs": [],
   "source": [
    "def get_pwd(traj):\n",
    "    distances = md.geometry.contact.squareform(*md.compute_contacts(traj, ignore_nonprotein=True))\n",
    "    return distances.mean(0)[np.triu_indices_from(distances[0], k=3)]\n",
    "\n",
    "compute_JS_divergence(get_pwd(real_traj), get_pwd(md_traj))"
   ]
  },
  {
   "cell_type": "code",
   "execution_count": null,
   "id": "79672178",
   "metadata": {},
   "outputs": [],
   "source": []
  },
  {
   "cell_type": "code",
   "execution_count": null,
   "id": "fae6b417",
   "metadata": {},
   "outputs": [],
   "source": []
  },
  {
   "cell_type": "code",
   "execution_count": null,
   "id": "2513a77a",
   "metadata": {},
   "outputs": [],
   "source": [
    "def compute_velocity(traj):\n",
    "    ca_velocities = []\n",
    "    sc_velocities = []\n",
    "    for i in range(1, len(traj)):\n",
    "        v = traj[i].atom_coord - traj[i-1].atom_coord\n",
    "        ca_velocities.append(np.linalg.norm(v[..., 1, :], axis=-1))\n",
    "        sc_velocities.append(np.linalg.norm(v[..., 2:, :], axis=-1))\n",
    "    ca_velocities = np.stack(ca_velocities).mean(-1)\n",
    "    sc_velocities = np.stack(sc_velocities).mean(-1)\n",
    "    return ca_velocities, sc_velocities\n",
    "\n",
    "ca_velocities, sc_velocities = compute_velocity(traj)\n",
    "# import matplotlib.pyplot as plt\n",
    "plt.plot(ca_velocities)"
   ]
  },
  {
   "cell_type": "markdown",
   "id": "4b9bbe10",
   "metadata": {},
   "source": [
    "### TICA Analysis"
   ]
  },
  {
   "cell_type": "code",
   "execution_count": null,
   "id": "5ea2b833",
   "metadata": {},
   "outputs": [],
   "source": [
    "import mdtraj\n",
    "from pathlib import Path\n",
    "# get the xtc path and get its directory\n",
    "reference = Path(dataset.files[0])\n",
    "reference_dir = reference.parent\n",
    "reference = mdtraj.load(reference_dir / 'filtered.pdb')\n",
    "ca_indices = reference.top.select('name CA')"
   ]
  },
  {
   "cell_type": "code",
   "execution_count": null,
   "id": "6255ba6e",
   "metadata": {},
   "outputs": [],
   "source": [
    "from einops import rearrange\n",
    "\n",
    "real_traj_ca_coord = dataset.coords[:, ca_indices]\n",
    "pairwise_distances = np.linalg.norm(rearrange(real_traj_ca_coord, 'b n d -> b n () d') - rearrange(real_traj_ca_coord, 'b m d -> b 1 m d'), axis=-1)\n",
    "pairwise_distances = pairwise_distances.reshape(-1, pairwise_distances.shape[-1] ** 2)\n",
    "\n",
    "# real_traj_ca_coord.shape"
   ]
  },
  {
   "cell_type": "code",
   "execution_count": null,
   "id": "d156b902",
   "metadata": {},
   "outputs": [],
   "source": [
    "ca_coords = [step.atom_coord[..., 1, :] for step in traj]\n",
    "pairwise_distances_model = np.linalg.norm(rearrange(ca_coords, 'b n d -> b n () d') - rearrange(ca_coords, 'b m d -> b 1 m d'), axis=-1)\n",
    "pairwise_distances_model = pairwise_distances_model.reshape(-1, pairwise_distances_model.shape[-1] ** 2)"
   ]
  },
  {
   "cell_type": "code",
   "execution_count": null,
   "id": "b16c5637",
   "metadata": {},
   "outputs": [],
   "source": []
  },
  {
   "cell_type": "code",
   "execution_count": null,
   "id": "0013199a",
   "metadata": {},
   "outputs": [],
   "source": [
    "\n",
    "import matplotlib.pyplot as plt\n",
    "import numpy as np\n",
    "\n",
    "from pyemma.coordinates import tica\n",
    "real_traj = dataset.splits['train']\n",
    "\n",
    "# print(len(real_traj))\n",
    "\n",
    "\n",
    "tic1, tic2 = tica(pairwise_distances, lag=100, dim=2).get_output()[0].T\n",
    "\n"
   ]
  },
  {
   "cell_type": "code",
   "execution_count": null,
   "id": "00086917",
   "metadata": {},
   "outputs": [],
   "source": [
    "plt.figure(figsize=(5, 5))\n",
    "import matplotlib as mpl\n",
    "plt.hist2d(tic1, tic2, bins=60, cmap='viridis', density=True, norm=mpl.colors.LogNorm())\n",
    "# plt.gca().set_aspect('equal', adjustable='box')"
   ]
  },
  {
   "cell_type": "markdown",
   "id": "d3b7199d",
   "metadata": {},
   "source": [
    "## Random"
   ]
  },
  {
   "cell_type": "code",
   "execution_count": null,
   "id": "0f98d205",
   "metadata": {},
   "outputs": [],
   "source": [
    "# from moleculib.graphics.py3Dmol import plot_py3dmol_grid\n",
    "# from moleculib.protein.datum import ProteinDatum\n",
    "# from model.base.protein import protein_to_tensor_cloud\n",
    "# from model.generative.stochastic_interpolants import NormalDistribution\n",
    "# from model.base.utils import TensorCloud\n",
    "\n",
    "# # trp_cage1 = ProteinDatum.fetch_pdb_id('1l2y', model=3)\n",
    "# trp_cage2 = ProteinDatum.fetch_pdb_id('1l2y', model=6)\n",
    "# plot_py3dmol_grid([[trp_cage2]], (500, 500),colors=colors).show()\n",
    "\n",
    "# # trp_cage = trp_cage[-6:-3]\n",
    "# # prng = hk.PRNGSequence(42)\n",
    "# # error = NormalDistribution('14x1e', coords_scale=3, irreps_scale=0.7).sample(next(prng), (20, ))\n",
    "\n",
    "# # colors = list(Color(\"violet\").range_to(Color(\"red\"), 20))\n",
    "# # colors = [c.hex for c in colors]\n",
    "\n",
    "# # plot_py3dmol_grid([[trp_cage]], (500, 500), colors=colors).show()\n",
    "# plot_py3dmol_grid([[protein_to_tensor_cloud(trp_cage2)]], (500, 500), radius=0.1, mid=0.8, colors=colors).show()\n",
    "# # from colour import Color\n",
    "\n",
    "\n",
    "# # latent = protein_to_tensor_cloud(trp_cage)\n",
    "# # plot_py3dmol_grid([[error]], (500, 500), radius=0.1, mid=0.8, colors=colors).show()\n",
    "\n",
    "# # plot_py3dmol_grid([[1.0 * error + latent.replace(irreps_array=latent.irreps_array.filter('1e'))]], (500, 500), radius=0.1, mid=0.8, colors=colors).show()\n",
    "\n"
   ]
  }
 ],
 "metadata": {
  "kernelspec": {
   "display_name": "Python 3 (ipykernel)",
   "language": "python",
   "name": "python3"
  },
  "language_info": {
   "codemirror_mode": {
    "name": "ipython",
    "version": 3
   },
   "file_extension": ".py",
   "mimetype": "text/x-python",
   "name": "python",
   "nbconvert_exporter": "python",
   "pygments_lexer": "ipython3",
   "version": "3.10.13"
  }
 },
 "nbformat": 4,
 "nbformat_minor": 5
}
